{
 "cells": [
  {
   "cell_type": "markdown",
   "id": "a422fabd",
   "metadata": {},
   "source": [
    "# B1.What is List?How will you reverse a list?"
   ]
  },
  {
   "cell_type": "markdown",
   "id": "1d4523cf",
   "metadata": {},
   "source": [
    "### A list is an ordered and mutable Python container, being one of the most common data structures in Python.\n",
    "\n",
    "## reverse list:-\n",
    "\n",
    "### Using the reverse() method we can reverse the contents of the list object in-place i.e., we don't need to create a new list instead we just copy the existing elements to the original list in reverse order.\n",
    "\n",
    "### This method directly modifies the original list."
   ]
  },
  {
   "cell_type": "markdown",
   "id": "f6f13294",
   "metadata": {},
   "source": [
    "# B2.How will you remove last object from a list?"
   ]
  },
  {
   "cell_type": "markdown",
   "id": "b7e0476c",
   "metadata": {},
   "source": [
    "### We can use slicing to remove the last element from a list.\n",
    "\n",
    "### The idea is to obtain a sublist containing all elements of the list except the last one.\n",
    "\n",
    "###  pop() method to remove the last element from the list.\n",
    "\n",
    "###  slice operation returns a new list, we have to assign the new list to the original list."
   ]
  },
  {
   "cell_type": "markdown",
   "id": "e6f85d5e",
   "metadata": {},
   "source": [
    "# B3.Suppose list1 is [2, 33, 222, 14, 25], What is list1[-1] ?"
   ]
  },
  {
   "cell_type": "markdown",
   "id": "547e1d7b",
   "metadata": {},
   "source": [
    "## 25"
   ]
  },
  {
   "cell_type": "markdown",
   "id": "4fdbadcf",
   "metadata": {},
   "source": [
    "# B4.Differentiate between append() and extend() methods.?"
   ]
  },
  {
   "cell_type": "markdown",
   "id": "16f4b399",
   "metadata": {},
   "source": [
    "## append1()\n",
    "\n",
    "### This method modifies the existing list by appending a single element to the tail.\n",
    "\n",
    "### It means that the append() method adds a single element to the list, be it one item or a sequence such as a list, tuple, set, etc.\n",
    "\n",
    "### Append accepts all data types and adds only one element to the list.\n",
    "\n",
    "### append method adds only one element.\n",
    "\n",
    "## extend()\n",
    "\n",
    "### The extend() method lives up to its name and appends elements at the end of a list.\n",
    "\n",
    "### Unlike append, it only takes an iterable type argument and increases the list length by the no. of elements added.\n",
    "\n",
    "### Extend accepts only iterable types and appends all elements to the list.\n",
    "\n",
    "###  And you can iterate through it like for lists, tuples, strings, dicts, etc."
   ]
  },
  {
   "cell_type": "markdown",
   "id": "09f91c3a",
   "metadata": {},
   "source": [
    "# B5. Write a Python function to get the largest number ,smallest num and sum of all from a list"
   ]
  },
  {
   "cell_type": "code",
   "execution_count": 19,
   "id": "b6390f58",
   "metadata": {},
   "outputs": [
    {
     "name": "stdout",
     "output_type": "stream",
     "text": [
      "Largest number is: 123\n",
      "Smallest number is: 3\n",
      "202\n"
     ]
    }
   ],
   "source": [
    "l = [123,1,3,4,5,66]\n",
    "l.sort()\n",
    "tot=0\n",
    "print(\"Largest number is:\", l[-1])\n",
    "print(\"Smallest number is:\", l[1])\n",
    "for i in range(0,len(l)):\n",
    "    tot=tot+l[i]\n",
    "\n",
    "print(tot)"
   ]
  },
  {
   "cell_type": "markdown",
   "id": "2ff8ce72",
   "metadata": {},
   "source": [
    "# B6.How will you compare two lists?"
   ]
  },
  {
   "cell_type": "code",
   "execution_count": 28,
   "id": "a587d9ac",
   "metadata": {},
   "outputs": [
    {
     "name": "stdout",
     "output_type": "stream",
     "text": [
      "same\n"
     ]
    }
   ],
   "source": [
    "l1=[1,2,3,4,5,6]\n",
    "l2=[1,2,3,4,5,6]\n",
    "a=set(l1)\n",
    "b=set(l2)\n",
    "if a==b:\n",
    "    print(\"same\")\n",
    "else:\n",
    "    print(\"not  same\")"
   ]
  },
  {
   "cell_type": "markdown",
   "id": "1f57014b",
   "metadata": {},
   "source": [
    "# Assignment Level Intermediate"
   ]
  },
  {
   "cell_type": "markdown",
   "id": "968ec6f4",
   "metadata": {},
   "source": [
    "# I1. Write a Python program to count the number of strings where the string length is 2 or more and the first and last character are same from a given list of strings."
   ]
  },
  {
   "cell_type": "code",
   "execution_count": 1,
   "id": "6038febe",
   "metadata": {},
   "outputs": [
    {
     "name": "stdout",
     "output_type": "stream",
     "text": [
      "2\n"
     ]
    }
   ],
   "source": [
    "def match_words(words):\n",
    "  ctr = 0\n",
    "\n",
    "  for word in words:\n",
    "    if len(word) > 1 and word[0] == word[-1]:\n",
    "      ctr += 1\n",
    "  return ctr\n",
    "\n",
    "print(match_words(['abc', 'xyz', 'aba', '1221']))"
   ]
  },
  {
   "cell_type": "markdown",
   "id": "70a425e2",
   "metadata": {},
   "source": [
    "# l2.Write a Python program to remove duplicates from a list"
   ]
  },
  {
   "cell_type": "code",
   "execution_count": 3,
   "id": "64669434",
   "metadata": {},
   "outputs": [
    {
     "data": {
      "text/plain": [
       "list"
      ]
     },
     "execution_count": 3,
     "metadata": {},
     "output_type": "execute_result"
    }
   ],
   "source": [
    "l = [123,1,3,4,5,66,66,123,4]\n",
    "type(l)"
   ]
  },
  {
   "cell_type": "code",
   "execution_count": 5,
   "id": "85de161c",
   "metadata": {},
   "outputs": [
    {
     "name": "stdout",
     "output_type": "stream",
     "text": [
      "{1, 66, 3, 4, 5, 123}\n"
     ]
    }
   ],
   "source": [
    "dup_items = set()\n",
    "for x in l:\n",
    "    if x not in dup_items:\n",
    "        dup_items.add(x)\n",
    "print(dup_items)"
   ]
  },
  {
   "cell_type": "markdown",
   "id": "69507ba9",
   "metadata": {},
   "source": [
    "# l3.Write a Python program to check a list is empty or not.\n"
   ]
  },
  {
   "cell_type": "code",
   "execution_count": 6,
   "id": "99213e47",
   "metadata": {},
   "outputs": [
    {
     "name": "stdout",
     "output_type": "stream",
     "text": [
      "List is empty\n"
     ]
    }
   ],
   "source": [
    "l = []\n",
    "print(\"List is empty\")"
   ]
  },
  {
   "cell_type": "markdown",
   "id": "a0796900",
   "metadata": {},
   "source": [
    "# l4.Write a Python function that takes two lists and returns True if the y have at least one common member"
   ]
  },
  {
   "cell_type": "code",
   "execution_count": 26,
   "id": "98b7435d",
   "metadata": {},
   "outputs": [
    {
     "name": "stdout",
     "output_type": "stream",
     "text": [
      "False\n"
     ]
    }
   ],
   "source": [
    "list1 = [123,1,3,4,5,66,66,123,4]\n",
    "list2 = [7,8,10,11,9,21]\n",
    "\n",
    "res=False\n",
    "for x in list1:\n",
    "    for y in list2:\n",
    "        if x==y:\n",
    "            res=True\n",
    "print(res)"
   ]
  },
  {
   "cell_type": "markdown",
   "id": "a446996b",
   "metadata": {},
   "source": [
    "# I5.Write a Python program to generate and print a list of first and last 5 elements where the values are square of numbers between 1 and 30"
   ]
  },
  {
   "cell_type": "code",
   "execution_count": 27,
   "id": "3791b26a",
   "metadata": {},
   "outputs": [
    {
     "name": "stdout",
     "output_type": "stream",
     "text": [
      "[36, 49, 64, 81, 100, 121, 144, 169, 196, 225, 256, 289, 324, 361, 400, 441, 484, 529, 576, 625, 676, 729, 784, 841]\n"
     ]
    }
   ],
   "source": [
    "l=list()\n",
    "for i in range(1,30):\n",
    "    l.append(i**2)\n",
    "print(l[5:])"
   ]
  },
  {
   "cell_type": "markdown",
   "id": "ce0f121e",
   "metadata": {},
   "source": [
    "# I6. Write a Python function that takes a list and returns a new list with unique elements of the first list"
   ]
  },
  {
   "cell_type": "code",
   "execution_count": 10,
   "id": "baeee65c",
   "metadata": {},
   "outputs": [
    {
     "name": "stdout",
     "output_type": "stream",
     "text": [
      "1\n",
      "2\n",
      "3\n",
      "4\n",
      "5\n",
      "6\n",
      "7\n",
      "8\n",
      "9\n",
      "10\n"
     ]
    }
   ],
   "source": [
    "for i in l:\n",
    "  t = i\n",
    "  #if t == l[]\n",
    "  print(i)"
   ]
  },
  {
   "cell_type": "markdown",
   "id": "ab906a84",
   "metadata": {},
   "source": [
    "# l7. Write a Python program to convert a list of characters into a string\n"
   ]
  },
  {
   "cell_type": "code",
   "execution_count": 40,
   "id": "67c9b1ea",
   "metadata": {},
   "outputs": [],
   "source": [
    " string = 'sarang'"
   ]
  },
  {
   "cell_type": "code",
   "execution_count": 48,
   "id": "03cc7f99",
   "metadata": {},
   "outputs": [
    {
     "data": {
      "text/plain": [
       "'sarang'"
      ]
     },
     "execution_count": 48,
     "metadata": {},
     "output_type": "execute_result"
    }
   ],
   "source": [
    "string"
   ]
  },
  {
   "cell_type": "code",
   "execution_count": 1,
   "id": "d5c2831a",
   "metadata": {},
   "outputs": [
    {
     "name": "stdout",
     "output_type": "stream",
     "text": [
      "s a r a n g\n"
     ]
    }
   ],
   "source": [
    "if __name__ == '__main__':\n",
    "    \n",
    "    l = ['s', 'a', 'r', 'a', 'n', 'g']\n",
    "    s = ' '.join(l)\n",
    "    print(s) # prints \"sarang\""
   ]
  },
  {
   "cell_type": "markdown",
   "id": "55a30c6b",
   "metadata": {},
   "source": [
    "# Assignment Level Advance"
   ]
  },
  {
   "cell_type": "markdown",
   "id": "1cf437fe",
   "metadata": {},
   "source": [
    "# A1.Write a Python program to select an item randomly from a list."
   ]
  },
  {
   "cell_type": "code",
   "execution_count": 9,
   "id": "3d7725da",
   "metadata": {},
   "outputs": [
    {
     "name": "stdout",
     "output_type": "stream",
     "text": [
      "6\n"
     ]
    }
   ],
   "source": [
    "import random\n",
    "l = [1, 2, 3, 4, 5, 6, 7, 8, 9, 10]\n",
    "print(random.choice(l))"
   ]
  },
  {
   "cell_type": "markdown",
   "id": "0d7e2d27",
   "metadata": {},
   "source": [
    "# A2.Write a Python program to find the second smallest number in a list."
   ]
  },
  {
   "cell_type": "code",
   "execution_count": 25,
   "id": "3b73a566",
   "metadata": {},
   "outputs": [
    {
     "name": "stdout",
     "output_type": "stream",
     "text": [
      "[2]\n"
     ]
    }
   ],
   "source": [
    "l = [1, 2, 3, 4, 5, 6, 7, 8, 9, 10]\n",
    "l.reverse()\n",
    "print(l[-2:-1])"
   ]
  },
  {
   "cell_type": "markdown",
   "id": "311b7dc2",
   "metadata": {},
   "source": [
    "# A3. Write a Python program to get unique values from a list"
   ]
  },
  {
   "cell_type": "code",
   "execution_count": 11,
   "id": "f9ea53e6",
   "metadata": {},
   "outputs": [
    {
     "name": "stdout",
     "output_type": "stream",
     "text": [
      "1\n",
      "2\n",
      "3\n",
      "4\n",
      "5\n",
      "6\n",
      "7\n",
      "8\n",
      "9\n",
      "10\n"
     ]
    }
   ],
   "source": [
    "for i in l:\n",
    "  t = i\n",
    "  #if t == l[]\n",
    "  print(i)"
   ]
  },
  {
   "cell_type": "markdown",
   "id": "42c95529",
   "metadata": {},
   "source": [
    "# A4.Write a Python program to check whether a list contains a sublist"
   ]
  },
  {
   "cell_type": "code",
   "execution_count": 14,
   "id": "017892ac",
   "metadata": {},
   "outputs": [
    {
     "name": "stdout",
     "output_type": "stream",
     "text": [
      "1 4 True\n",
      "2 5 True\n",
      "3 6 True\n",
      "4 7 True\n",
      "5 8 True\n",
      "6 9 True\n",
      "7 10 True\n"
     ]
    },
    {
     "ename": "IndexError",
     "evalue": "list index out of range",
     "output_type": "error",
     "traceback": [
      "\u001b[1;31m---------------------------------------------------------------------------\u001b[0m",
      "\u001b[1;31mIndexError\u001b[0m                                Traceback (most recent call last)",
      "\u001b[1;32m<ipython-input-14-7c0bb381b6bd>\u001b[0m in \u001b[0;36m<module>\u001b[1;34m\u001b[0m\n\u001b[0;32m      1\u001b[0m \u001b[1;32mfor\u001b[0m \u001b[0mi\u001b[0m \u001b[1;32min\u001b[0m \u001b[0mrange\u001b[0m\u001b[1;33m(\u001b[0m \u001b[0mlen\u001b[0m\u001b[1;33m(\u001b[0m\u001b[0ml\u001b[0m\u001b[1;33m)\u001b[0m \u001b[1;33m)\u001b[0m\u001b[1;33m:\u001b[0m\u001b[1;33m\u001b[0m\u001b[1;33m\u001b[0m\u001b[0m\n\u001b[0;32m      2\u001b[0m   \u001b[0mt\u001b[0m \u001b[1;33m=\u001b[0m \u001b[0ml\u001b[0m\u001b[1;33m[\u001b[0m\u001b[0mi\u001b[0m\u001b[1;33m]\u001b[0m\u001b[1;33m\u001b[0m\u001b[1;33m\u001b[0m\u001b[0m\n\u001b[1;32m----> 3\u001b[1;33m   \u001b[0mprint\u001b[0m\u001b[1;33m(\u001b[0m\u001b[0mt\u001b[0m\u001b[1;33m,\u001b[0m  \u001b[0ml\u001b[0m\u001b[1;33m[\u001b[0m\u001b[0mi\u001b[0m \u001b[1;33m+\u001b[0m \u001b[1;36m3\u001b[0m\u001b[1;33m]\u001b[0m\u001b[1;33m,\u001b[0m \u001b[0mt\u001b[0m \u001b[1;33m!=\u001b[0m \u001b[0ml\u001b[0m\u001b[1;33m[\u001b[0m\u001b[0mi\u001b[0m \u001b[1;33m+\u001b[0m \u001b[1;36m2\u001b[0m\u001b[1;33m]\u001b[0m\u001b[1;33m)\u001b[0m\u001b[1;33m\u001b[0m\u001b[1;33m\u001b[0m\u001b[0m\n\u001b[0m",
      "\u001b[1;31mIndexError\u001b[0m: list index out of range"
     ]
    }
   ],
   "source": [
    "for i in range( len(l) ):\n",
    "  t = l[i]\n",
    "  print(t,  l[i + 3], t != l[i + 2])"
   ]
  },
  {
   "cell_type": "markdown",
   "id": "0b986d85",
   "metadata": {},
   "source": [
    "# A5.Write a Python program to split a list into different variables."
   ]
  },
  {
   "cell_type": "code",
   "execution_count": 19,
   "id": "f1566920",
   "metadata": {},
   "outputs": [],
   "source": [
    "sp_str = 'hello world! My name is sarang.'"
   ]
  },
  {
   "cell_type": "code",
   "execution_count": 20,
   "id": "e07095e7",
   "metadata": {},
   "outputs": [
    {
     "data": {
      "text/plain": [
       "['hello', 'world!', 'My', 'name', 'is', 'sarang.']"
      ]
     },
     "execution_count": 20,
     "metadata": {},
     "output_type": "execute_result"
    }
   ],
   "source": [
    "sp_str.split()"
   ]
  },
  {
   "cell_type": "markdown",
   "id": "2aadd985",
   "metadata": {},
   "source": [
    "# Assignment Level Basic"
   ]
  },
  {
   "cell_type": "markdown",
   "id": "c794c0b3",
   "metadata": {},
   "source": [
    "# B1.What is tuple?Difference between list and tuple"
   ]
  },
  {
   "cell_type": "markdown",
   "id": "885222f2",
   "metadata": {},
   "source": [
    "## Tuples are used to store multiple items in a single variable. \n",
    "\n",
    "## A tuple is a collection which is ordered and unchangeable.\n",
    "\n",
    "## Tuple:\n",
    "\n",
    "### It is immutable\n",
    "### Elements can be accessed better.\n",
    "### Consumes less memory.\n",
    "### Does not have many built-in methods.\n",
    "### Unexpected errors and changes rarely occur in tuples.\n",
    "\n",
    "## List:\n",
    "\n",
    "### It is mutable\n",
    "### Operations like insertion and deletion are better performed.\n",
    "### Consumes more memory.\n",
    "### Many built-in methods are available.\n",
    "### Unexpected errors and changes can easily occur in lists."
   ]
  },
  {
   "cell_type": "markdown",
   "id": "142a3ed3",
   "metadata": {},
   "source": [
    "# B2.Write a Python program to create a tuple with different data types"
   ]
  },
  {
   "cell_type": "code",
   "execution_count": 21,
   "id": "e4b8ec90",
   "metadata": {},
   "outputs": [],
   "source": [
    "t = (9, 8, 8, 8, 7, 7, 6, 6, 6)"
   ]
  },
  {
   "cell_type": "code",
   "execution_count": 22,
   "id": "138cfcd5",
   "metadata": {},
   "outputs": [
    {
     "data": {
      "text/plain": [
       "tuple"
      ]
     },
     "execution_count": 22,
     "metadata": {},
     "output_type": "execute_result"
    }
   ],
   "source": [
    "type(t)"
   ]
  },
  {
   "cell_type": "markdown",
   "id": "f74f28e6",
   "metadata": {},
   "source": [
    "# B3. Write a Python program to create a tuple with numbers"
   ]
  },
  {
   "cell_type": "code",
   "execution_count": 26,
   "id": "1f92346e",
   "metadata": {},
   "outputs": [
    {
     "name": "stdout",
     "output_type": "stream",
     "text": [
      "(1, 2, 3)\n"
     ]
    }
   ],
   "source": [
    "tuple = 1, 2, 3,\n",
    "print(tuple)"
   ]
  },
  {
   "cell_type": "markdown",
   "id": "3ad4bcf7",
   "metadata": {},
   "source": [
    "# B4.Write a Python program to convert a tuple to a string"
   ]
  },
  {
   "cell_type": "code",
   "execution_count": 32,
   "id": "1d15bc2b",
   "metadata": {},
   "outputs": [
    {
     "name": "stdout",
     "output_type": "stream",
     "text": [
      "sarang\n"
     ]
    }
   ],
   "source": [
    "tuple = ('s', 'a', 'r', 'a', 'n', 'g')\n",
    "str =  ''.join(tuple)\n",
    "print(str)"
   ]
  },
  {
   "cell_type": "markdown",
   "id": "92615bf9",
   "metadata": {},
   "source": [
    "# B5.Write a Python program to check whether an element exists within a tuple"
   ]
  },
  {
   "cell_type": "code",
   "execution_count": 34,
   "id": "c74b0eb1",
   "metadata": {},
   "outputs": [
    {
     "name": "stdout",
     "output_type": "stream",
     "text": [
      "True\n",
      "False\n"
     ]
    }
   ],
   "source": [
    "tuple = ('s', 'a', 'r', 'a', 'n', 'g')\n",
    "print('r' in tuple)\n",
    "print('1' in tuple)"
   ]
  },
  {
   "cell_type": "markdown",
   "id": "32dbc8e5",
   "metadata": {},
   "source": [
    "# B7.Write a Python program to find the length of a tuple."
   ]
  },
  {
   "cell_type": "code",
   "execution_count": 45,
   "id": "db9a50b6",
   "metadata": {},
   "outputs": [],
   "source": [
    "t = tuple('s', 'a', 'r', 'a', 'n', 'g')"
   ]
  },
  {
   "cell_type": "code",
   "execution_count": 46,
   "id": "d92be2d2",
   "metadata": {},
   "outputs": [
    {
     "data": {
      "text/plain": [
       "tuple"
      ]
     },
     "execution_count": 46,
     "metadata": {},
     "output_type": "execute_result"
    }
   ],
   "source": [
    "type(t)"
   ]
  },
  {
   "cell_type": "code",
   "execution_count": 50,
   "id": "21234947",
   "metadata": {},
   "outputs": [
    {
     "name": "stdout",
     "output_type": "stream",
     "text": [
      "6\n"
     ]
    }
   ],
   "source": [
    "print(len(tuple))"
   ]
  },
  {
   "cell_type": "markdown",
   "id": "e646552b",
   "metadata": {},
   "source": [
    "# B6.Write a Python program to convert a list to a tuple"
   ]
  },
  {
   "cell_type": "code",
   "execution_count": 69,
   "id": "32a744f3",
   "metadata": {},
   "outputs": [],
   "source": [
    "t2 = (s)"
   ]
  },
  {
   "cell_type": "code",
   "execution_count": 70,
   "id": "93953fc1",
   "metadata": {},
   "outputs": [
    {
     "data": {
      "text/plain": [
       "str"
      ]
     },
     "execution_count": 70,
     "metadata": {},
     "output_type": "execute_result"
    }
   ],
   "source": [
    "type(t2)"
   ]
  },
  {
   "cell_type": "code",
   "execution_count": 71,
   "id": "3921cd5e",
   "metadata": {},
   "outputs": [],
   "source": [
    "t2 = (s,)"
   ]
  },
  {
   "cell_type": "code",
   "execution_count": 72,
   "id": "7ecd1e17",
   "metadata": {},
   "outputs": [
    {
     "data": {
      "text/plain": [
       "tuple"
      ]
     },
     "execution_count": 72,
     "metadata": {},
     "output_type": "execute_result"
    }
   ],
   "source": [
    "type(t2)"
   ]
  },
  {
   "cell_type": "code",
   "execution_count": 73,
   "id": "81dff77a",
   "metadata": {},
   "outputs": [],
   "source": [
    "lt = [s]"
   ]
  },
  {
   "cell_type": "code",
   "execution_count": 74,
   "id": "69cea89d",
   "metadata": {},
   "outputs": [
    {
     "data": {
      "text/plain": [
       "list"
      ]
     },
     "execution_count": 74,
     "metadata": {},
     "output_type": "execute_result"
    }
   ],
   "source": [
    "type(lt)"
   ]
  },
  {
   "cell_type": "markdown",
   "id": "a043cdb3",
   "metadata": {},
   "source": [
    "# Assignment Level Intermediate"
   ]
  },
  {
   "cell_type": "markdown",
   "id": "1cc1836d",
   "metadata": {},
   "source": [
    "# I1. Write a Python program to reverse a tuple"
   ]
  },
  {
   "cell_type": "code",
   "execution_count": 23,
   "id": "84bbe830",
   "metadata": {},
   "outputs": [
    {
     "name": "stdout",
     "output_type": "stream",
     "text": [
      "(6, 6, 6, 7, 7, 8, 8, 8, 9)\n"
     ]
    }
   ],
   "source": [
    "t2=(9, 8, 8, 8, 7, 7, 6, 6, 6)\n",
    "for i in t2:\n",
    "    newt=t2[::-1]\n",
    "print(newt)"
   ]
  },
  {
   "cell_type": "markdown",
   "id": "584702e0",
   "metadata": {},
   "source": [
    "# I2.Write a Python program to replace last value of tuples in a list"
   ]
  },
  {
   "cell_type": "code",
   "execution_count": 1,
   "id": "a3866546",
   "metadata": {},
   "outputs": [
    {
     "name": "stdout",
     "output_type": "stream",
     "text": [
      "[(10, 20, 100), (40, 50, 100), (70, 80, 100)]\n"
     ]
    }
   ],
   "source": [
    "l = [(10, 20, 40), (40, 50, 60), (70, 80, 90)]\n",
    "print([t[:-1] + (100,) for t in l])"
   ]
  },
  {
   "cell_type": "markdown",
   "id": "bde9a032",
   "metadata": {},
   "source": [
    "# i3.Write a Python program to find the repeated items of a tuple"
   ]
  },
  {
   "cell_type": "code",
   "execution_count": 2,
   "id": "c0d35549",
   "metadata": {},
   "outputs": [],
   "source": [
    "t = (9, 8, 8, 8, 7, 7, 6, 6, 6, 5, 5, 4, 4, 4, 4, 4, 1, 1)"
   ]
  },
  {
   "cell_type": "code",
   "execution_count": 3,
   "id": "1c3e7a59",
   "metadata": {},
   "outputs": [
    {
     "data": {
      "text/plain": [
       "tuple"
      ]
     },
     "execution_count": 3,
     "metadata": {},
     "output_type": "execute_result"
    }
   ],
   "source": [
    "type(t)"
   ]
  },
  {
   "cell_type": "code",
   "execution_count": 5,
   "id": "592f808f",
   "metadata": {},
   "outputs": [
    {
     "data": {
      "text/plain": [
       "3"
      ]
     },
     "execution_count": 5,
     "metadata": {},
     "output_type": "execute_result"
    }
   ],
   "source": [
    "t.count(6)"
   ]
  },
  {
   "cell_type": "markdown",
   "id": "133d715a",
   "metadata": {},
   "source": [
    "# Assignment Level Advance"
   ]
  },
  {
   "cell_type": "markdown",
   "id": "1a4ea1db",
   "metadata": {},
   "source": [
    "# A1.Write a Python program to remove an empty tuple(s) from a list of tuples."
   ]
  },
  {
   "cell_type": "code",
   "execution_count": 11,
   "id": "6c31a139",
   "metadata": {},
   "outputs": [
    {
     "name": "stdout",
     "output_type": "stream",
     "text": [
      "[('',), ('a', 'b'), ('a', 'b', 'c'), 'd']\n"
     ]
    }
   ],
   "source": [
    "L = [(), (), ('',), ('a', 'b'), ('a', 'b', 'c'), ('d')]\n",
    "L = [t for t in L if t]\n",
    "print(L)"
   ]
  },
  {
   "cell_type": "markdown",
   "id": "ea01729a",
   "metadata": {},
   "source": [
    "# A2.Write a Python program to unzip a list of tuples into individual lists"
   ]
  },
  {
   "cell_type": "code",
   "execution_count": 12,
   "id": "94b6cf28",
   "metadata": {},
   "outputs": [
    {
     "name": "stdout",
     "output_type": "stream",
     "text": [
      "[(10, 40, 70), (20, 50, 80), (40, 60, 90)]\n"
     ]
    }
   ],
   "source": [
    "l = [(10, 20, 40), (40, 50, 60), (70, 80, 90)]\n",
    "print(list(zip(*l)))"
   ]
  },
  {
   "cell_type": "markdown",
   "id": "09d14f1a",
   "metadata": {},
   "source": [
    "# A3. Write a Python program to convert a list of tuples into a dictionary"
   ]
  },
  {
   "cell_type": "code",
   "execution_count": 19,
   "id": "97311956",
   "metadata": {},
   "outputs": [
    {
     "name": "stdout",
     "output_type": "stream",
     "text": [
      "{10: 20, 40: 50, 70: 80}\n"
     ]
    }
   ],
   "source": [
    "tu=[(10, 20,), (40, 50,), (70, 80,)]\n",
    "l=dict(tu)\n",
    "print(l)"
   ]
  },
  {
   "cell_type": "markdown",
   "id": "f65355ce",
   "metadata": {},
   "source": [
    "# Assignment Level Basic"
   ]
  },
  {
   "cell_type": "markdown",
   "id": "1455a162",
   "metadata": {},
   "source": [
    "# B1.What is Dictionaries?"
   ]
  },
  {
   "cell_type": "markdown",
   "id": "be858a90",
   "metadata": {},
   "source": [
    "### Dictionary in Python is an ordered collection of data values\n",
    "\n",
    "### used to store data values like a map, which, unlike other Data Types that hold only a single value as an element, Dictionary holds key:value pair.\n",
    "\n",
    "### Key-value is provided in the dictionary to make it more optimized."
   ]
  },
  {
   "cell_type": "markdown",
   "id": "2d48eac5",
   "metadata": {},
   "source": [
    "# B2.How will you create a dictionary in python?How will you get all the keys from the dictionary?How will you get all the values from the dictionary?"
   ]
  },
  {
   "cell_type": "markdown",
   "id": "326186cf",
   "metadata": {},
   "source": [
    "### In Python, a Dictionary can be created by placing a sequence of elements within curly {} braces, separated by 'comma'.\n",
    "\n",
    "### Dictionary holds a pair of values, one being the Key and the other corresponding pair element being its Key:value.\n",
    "\n",
    "### The methods dict. keys() and dict. values() return lists of the keys or values explicitly.\n",
    "\n",
    "### There's also an items() which returns a list of (key, value) tuples, which is the most efficient way to examine all the key value data in the dictionary.\n",
    "\n",
    "### If you only need the dictionary values -0.3246 , -0.9185 , and -3985 use: your_dict. values() .\n",
    "\n",
    "### If you want both keys and values use: your_dict.\n",
    "\n",
    "### items() which returns a list of tuples [(key1, value1), (key2, value2), ...] ."
   ]
  },
  {
   "cell_type": "markdown",
   "id": "d3eafb1b",
   "metadata": {},
   "source": [
    "# B3.How will you create a dictionary using tuples in python?\n"
   ]
  },
  {
   "cell_type": "markdown",
   "id": "fc3bfe68",
   "metadata": {},
   "source": [
    "### To convert a tuple to dictionary in Python, use the dict() method.\n",
    "\n",
    "### A dictionary object can be constructed using a dict() function.\n",
    "\n",
    "### The dict() function takes a tuple of tuples as an argument and returns the dictionary.\n",
    "\n",
    "### Each tuple contains a key-value pair."
   ]
  },
  {
   "cell_type": "markdown",
   "id": "4a26e64d",
   "metadata": {},
   "source": [
    "# B4.Write a Python script to sort (ascending and descending) a dictionary by value"
   ]
  },
  {
   "cell_type": "code",
   "execution_count": 1,
   "id": "31b9e10d",
   "metadata": {},
   "outputs": [],
   "source": [
    "l2 = [5,4,6,8,7,4,6,1,1,63,4,5,8,9,8,7,4,6,4]"
   ]
  },
  {
   "cell_type": "code",
   "execution_count": 2,
   "id": "311d9044",
   "metadata": {},
   "outputs": [],
   "source": [
    "l2.sort()"
   ]
  },
  {
   "cell_type": "code",
   "execution_count": 3,
   "id": "f84cf520",
   "metadata": {},
   "outputs": [
    {
     "data": {
      "text/plain": [
       "[1, 1, 4, 4, 4, 4, 4, 5, 5, 6, 6, 6, 7, 7, 8, 8, 8, 9, 63]"
      ]
     },
     "execution_count": 3,
     "metadata": {},
     "output_type": "execute_result"
    }
   ],
   "source": [
    "l2"
   ]
  },
  {
   "cell_type": "code",
   "execution_count": 5,
   "id": "bd4a9865",
   "metadata": {},
   "outputs": [],
   "source": [
    "l2.sort(reverse=True)"
   ]
  },
  {
   "cell_type": "code",
   "execution_count": 6,
   "id": "ed32fb95",
   "metadata": {},
   "outputs": [
    {
     "data": {
      "text/plain": [
       "[63, 9, 8, 8, 8, 7, 7, 6, 6, 6, 5, 5, 4, 4, 4, 4, 4, 1, 1]"
      ]
     },
     "execution_count": 6,
     "metadata": {},
     "output_type": "execute_result"
    }
   ],
   "source": [
    "l2"
   ]
  },
  {
   "cell_type": "markdown",
   "id": "95829979",
   "metadata": {},
   "source": [
    "# B5. Write a Python script to concatenate following dictionaries to create a new one"
   ]
  },
  {
   "cell_type": "code",
   "execution_count": 21,
   "id": "8d7890fc",
   "metadata": {},
   "outputs": [
    {
     "name": "stdout",
     "output_type": "stream",
     "text": [
      "{'name': 'sarang', 'lastname': 'trivedi', 'address': 'ahmd', 'country': 'ind'}\n"
     ]
    }
   ],
   "source": [
    "dict1={'name':'sarang','lastname':'trivedi'}\n",
    "dict2={'address':'ahmd','country':'ind'}\n",
    "dict3 ={}\n",
    "for d in (dict1, dict2):\n",
    "    dict3.update(d)\n",
    "print(dict3)"
   ]
  },
  {
   "cell_type": "markdown",
   "id": "f73fef10",
   "metadata": {},
   "source": [
    "# B6.Write a Python script to check if a given key already exists in a dictionary"
   ]
  },
  {
   "cell_type": "code",
   "execution_count": 23,
   "id": "eaac3f95",
   "metadata": {},
   "outputs": [
    {
     "name": "stdout",
     "output_type": "stream",
     "text": [
      "its exists\n"
     ]
    }
   ],
   "source": [
    "d={'name':'sarang','lastname':'trivedi'}\n",
    "s='name'\n",
    "if s in d:\n",
    "    print('its exists')\n",
    "else:\n",
    "    print('its not exists')"
   ]
  },
  {
   "cell_type": "markdown",
   "id": "b0e3fbe9",
   "metadata": {},
   "source": [
    "# B7.How Do You Traverse Through A Dictionary Object In Python?"
   ]
  },
  {
   "cell_type": "code",
   "execution_count": 26,
   "id": "27f9d823",
   "metadata": {},
   "outputs": [],
   "source": [
    "d={'name':'sarang','lastname':'trivedi'}\n",
    "for key,value in ():\n",
    "    print(key, value)"
   ]
  },
  {
   "cell_type": "code",
   "execution_count": 27,
   "id": "de5632a0",
   "metadata": {},
   "outputs": [
    {
     "data": {
      "text/plain": [
       "{'name': 'sarang', 'lastname': 'trivedi'}"
      ]
     },
     "execution_count": 27,
     "metadata": {},
     "output_type": "execute_result"
    }
   ],
   "source": [
    "d"
   ]
  },
  {
   "cell_type": "markdown",
   "id": "a7865bd0",
   "metadata": {},
   "source": [
    "# B8.How Do You Check The Presence Of A Key In A Dictionary?"
   ]
  },
  {
   "cell_type": "code",
   "execution_count": 30,
   "id": "e46fa598",
   "metadata": {},
   "outputs": [
    {
     "name": "stdout",
     "output_type": "stream",
     "text": [
      "key its exists\n"
     ]
    }
   ],
   "source": [
    "d={'name':'sarang','lastname':'trivedi'}\n",
    "v='name'\n",
    "if v in d:\n",
    "    print('key its exists')\n",
    "else:\n",
    "    print('key does not exists')"
   ]
  },
  {
   "cell_type": "markdown",
   "id": "ba34accf",
   "metadata": {},
   "source": [
    "# Assignment Level Intermediate"
   ]
  },
  {
   "cell_type": "markdown",
   "id": "9445349b",
   "metadata": {},
   "source": [
    "# I1 Write a Python script to print a dictionary where the keys are numbers between 1 and 15 (both Sample Dictionary\n",
    "# {1: 1, 2: 4, 3: 9, 4: 16, 5: 25, 6: 36, 7: 49, 8: 64, 9: 81, 10: 100, 11: 121, 12: 144, 13: 169,14: 196, 15: 225}\n"
   ]
  },
  {
   "cell_type": "code",
   "execution_count": 3,
   "id": "342ee8a3",
   "metadata": {},
   "outputs": [
    {
     "name": "stdout",
     "output_type": "stream",
     "text": [
      "{1: 1, 2: 4, 3: 9, 4: 16, 5: 25, 6: 36, 7: 49, 8: 64, 9: 81, 10: 100, 11: 121, 12: 144, 13: 169, 14: 196, 15: 225}\n"
     ]
    }
   ],
   "source": [
    "d={1: 1, 2: 4, 3: 9, 4: 16, 5: 25, 6: 36, 7: 49, 8: 64, 9: 81, 10: 100, 11: 121, 12: 144, 13: 169,14: 196, 15: 225}\n",
    "for x in range(1,15):\n",
    "    d[x]=x**2\n",
    "print(d)"
   ]
  },
  {
   "cell_type": "markdown",
   "id": "8cbf2c2b",
   "metadata": {},
   "source": [
    "# I2. Write a Python program to check multiple keys exists in a dictionary"
   ]
  },
  {
   "cell_type": "code",
   "execution_count": 6,
   "id": "98c6fb1a",
   "metadata": {},
   "outputs": [
    {
     "name": "stdout",
     "output_type": "stream",
     "text": [
      "True\n",
      "False\n"
     ]
    }
   ],
   "source": [
    "d={'name':'sarang','lastname':'trivedi'}\n",
    "print(d.keys() >= {\"name\", \"lastname\"})\n",
    "print(d.keys() >= {\"vasuli\", \"0404\"})"
   ]
  },
  {
   "cell_type": "markdown",
   "id": "83fa02b3",
   "metadata": {},
   "source": [
    "# I3.Write a Python script to merge two Python dictionaries"
   ]
  },
  {
   "cell_type": "code",
   "execution_count": 11,
   "id": "38b96631",
   "metadata": {},
   "outputs": [
    {
     "name": "stdout",
     "output_type": "stream",
     "text": [
      "{'a': 20, 'b': 2020, 'x': 23, 'y': 1998}\n"
     ]
    }
   ],
   "source": [
    "d1 = {'a': 20, 'b': 2020}\n",
    "d2 = {'x': 23, 'y': 1998}\n",
    "d = d1.copy()\n",
    "d.update(d2)\n",
    "print(d)"
   ]
  },
  {
   "cell_type": "markdown",
   "id": "275025c9",
   "metadata": {},
   "source": [
    "# I4. Write a Python program to map two lists into a dictionary"
   ]
  },
  {
   "cell_type": "code",
   "execution_count": 1,
   "id": "d4789f80",
   "metadata": {},
   "outputs": [
    {
     "name": "stdout",
     "output_type": "stream",
     "text": [
      "{'sarang': 1, 'keyur': 2, 'sandeep': 3}\n"
     ]
    }
   ],
   "source": [
    "key_list = ['sarang', 'keyur', 'sandeep']\n",
    "value_list = [1, 2, 3]\n",
    "\n",
    "my_dict = {} \n",
    "for key in key_list: \n",
    "    for value in value_list: \n",
    "        my_dict[key] = value \n",
    "        value_list.remove(value) \n",
    "        break  \n",
    "print(my_dict)"
   ]
  },
  {
   "cell_type": "markdown",
   "id": "8348ce9f",
   "metadata": {},
   "source": [
    "# I5. Write a Python program to combine two dictionary adding values for common keys.\n",
    "# d1 = {'a': 100, 'b': 200, 'c':300}\n",
    "# d2 = {'a': 300, 'b': 200, 'd':400}\n",
    "# Sample output: Counter({'a': 400, 'b': 400, 'd': 400, 'c': 300})"
   ]
  },
  {
   "cell_type": "code",
   "execution_count": 5,
   "id": "1b4dc37f",
   "metadata": {},
   "outputs": [
    {
     "name": "stdout",
     "output_type": "stream",
     "text": [
      "Counter({'a': 400, 'b': 400, 'd': 400, 'c': 300})\n"
     ]
    }
   ],
   "source": [
    "from collections import Counter\n",
    "d1 = {'a': 100, 'b': 200, 'c':300}\n",
    "d2 = {'a': 300, 'b': 200, 'd':400}\n",
    "d = Counter(d1) + Counter(d2)\n",
    "print(d)"
   ]
  },
  {
   "cell_type": "markdown",
   "id": "aa7190f0",
   "metadata": {},
   "source": [
    "# I6 .Write a Python program to print all unique values in a dictionary¶"
   ]
  },
  {
   "cell_type": "code",
   "execution_count": 10,
   "id": "7f2f0af3",
   "metadata": {},
   "outputs": [
    {
     "name": "stdout",
     "output_type": "stream",
     "text": [
      "[1200, 1300, 1400]\n"
     ]
    }
   ],
   "source": [
    "dict={'sarang':1200,'keyur':1300,'ashok':1400,'sarang':1200}\n",
    "l2=[]\n",
    "for i in dict.values():\n",
    "    if i in l2 :\n",
    "        coutinue\n",
    "    else:\n",
    "        l2.append(i)\n",
    "        \n",
    "print(l2)"
   ]
  },
  {
   "cell_type": "markdown",
   "id": "d1e35482",
   "metadata": {},
   "source": [
    "# I7.Why Do You Use The Zip() Method In Python?The zip() function combines the contents of two or more iterables. zip() returns a zip object. This is an iterator of tuples where all the values you have passed as arguments are stored as pairs. Python's zip() function takes an iterable—such as a list, tuple, set, or dictionary—as an argument"
   ]
  },
  {
   "cell_type": "code",
   "execution_count": 12,
   "id": "5d2f994e",
   "metadata": {},
   "outputs": [
    {
     "name": "stdout",
     "output_type": "stream",
     "text": [
      "{(3, 7, 11), (1, 5, 9), (2, 6, 10), (4, 8, 12)}\n"
     ]
    }
   ],
   "source": [
    "l1=[1,2,3,4]\n",
    "l2=[5,6,7,8]\n",
    "l3=[9,10,11,12]\n",
    "l4=zip(l1,l2,l3)\n",
    "l5=set(l4)\n",
    "print(l5)"
   ]
  },
  {
   "cell_type": "markdown",
   "id": "a03497ec",
   "metadata": {},
   "source": [
    "# Assignment Level Advance:¶"
   ]
  },
  {
   "cell_type": "markdown",
   "id": "1479f698",
   "metadata": {},
   "source": [
    "# A1. Write a Python program to create and display all combinations of letters, selecting each letter from a different key in a dictionary.\n",
    "# Sample data : {'1':['a','b'], '2':['c','d']}\n",
    "# Expected Output:\n",
    "# ac\n",
    "# ad\n",
    "# bc\n",
    "# bd\n",
    "# A2.Write a Python program to find the highest 3 values in a dictionary"
   ]
  },
  {
   "cell_type": "code",
   "execution_count": 13,
   "id": "addb5540",
   "metadata": {},
   "outputs": [
    {
     "name": "stdout",
     "output_type": "stream",
     "text": [
      "ac\n",
      "ad\n",
      "bc\n",
      "bd\n"
     ]
    }
   ],
   "source": [
    "import itertools      \n",
    "d ={'1':['a','b'], '2':['c','d']}\n",
    "for combo in itertools.product(*[d[k] for k in sorted(d.keys())]):\n",
    "    print(''.join(combo))"
   ]
  },
  {
   "cell_type": "markdown",
   "id": "9956433b",
   "metadata": {},
   "source": [
    "# A3.Write a Python program to combine values in python list of dictionaries.\n",
    "# Sample data: [{'item': 'item1', 'amount': 400}, {'item': 'item2', 'amount': 300},{'item': 'item1', 'amount': 750}]\n",
    "# Expected Output: Counter({'item1': 1150, 'item2': 300})"
   ]
  },
  {
   "cell_type": "code",
   "execution_count": 15,
   "id": "898a431e",
   "metadata": {},
   "outputs": [
    {
     "name": "stdout",
     "output_type": "stream",
     "text": [
      "Counter({'item1': 1150, 'item2': 300})\n"
     ]
    }
   ],
   "source": [
    "from collections import Counter\n",
    "item_list = [{'item': 'item1', 'amount': 400}, {'item': 'item2', 'amount': 300}, {'item': 'item1', 'amount': 750}]\n",
    "result = Counter()\n",
    "for d in item_list:\n",
    "    result[d['item']] += d['amount']\n",
    "print(result) \n"
   ]
  },
  {
   "cell_type": "markdown",
   "id": "3eb21702",
   "metadata": {},
   "source": [
    "# A4. Write a Python program to create a dictionary from a string.\n",
    "# Note: Track the count of the letters from the string.\n",
    "# Sample string : 'w3resource'\n",
    "# Expected output: {'3': 1, 's': 1, 'r': 2, 'u': 1, 'w': 1, 'c': 1, 'e': 2, 'o': 1}"
   ]
  },
  {
   "cell_type": "code",
   "execution_count": 16,
   "id": "129ed881",
   "metadata": {},
   "outputs": [
    {
     "name": "stdout",
     "output_type": "stream",
     "text": [
      "{'w': 1, '3': 1, 'r': 2, 'e': 2, 's': 1, 'o': 1, 'u': 1, 'c': 1}\n"
     ]
    }
   ],
   "source": [
    "str1 = 'w3resource' \n",
    "my_dict = {}\n",
    "for letter in str1:\n",
    "    my_dict[letter] = my_dict.get(letter, 0) + 1\n",
    "print(my_dict)"
   ]
  },
  {
   "cell_type": "markdown",
   "id": "d1760902",
   "metadata": {},
   "source": [
    "# Topic : Function and method Assignment"
   ]
  },
  {
   "cell_type": "markdown",
   "id": "e10a7041",
   "metadata": {},
   "source": [
    "# B1.Write a Python function to calculate the factorial of a number (a non-negative integer)"
   ]
  },
  {
   "cell_type": "code",
   "execution_count": 17,
   "id": "e6076903",
   "metadata": {},
   "outputs": [
    {
     "name": "stdout",
     "output_type": "stream",
     "text": [
      "120\n"
     ]
    }
   ],
   "source": [
    "num=5\n",
    "fact=1\n",
    "for i in range(1,5):\n",
    "    fact=fact*(i + 1)\n",
    "print(fact)"
   ]
  },
  {
   "cell_type": "markdown",
   "id": "f2e9836d",
   "metadata": {},
   "source": [
    "# B2. Write a Python function to check whether a number is in a given range"
   ]
  },
  {
   "cell_type": "code",
   "execution_count": 18,
   "id": "ae6d50b9",
   "metadata": {},
   "outputs": [
    {
     "name": "stdout",
     "output_type": "stream",
     "text": [
      "yes is it in\n"
     ]
    }
   ],
   "source": [
    "def myfun(n):\n",
    "    if n in range(1,5):\n",
    "        print('yes is it in')\n",
    "    else:\n",
    "        print('do not it exist')\n",
    "myfun(4)"
   ]
  },
  {
   "cell_type": "markdown",
   "id": "cb3f6dbc",
   "metadata": {},
   "source": [
    "# B3.Write a Python function to check whether a number is perfect or not."
   ]
  },
  {
   "cell_type": "code",
   "execution_count": 19,
   "id": "568b6d89",
   "metadata": {},
   "outputs": [
    {
     "name": "stdout",
     "output_type": "stream",
     "text": [
      "Enter any number: 20\n",
      "The number is not a Perfect number!\n"
     ]
    }
   ],
   "source": [
    "n = int(input(\"Enter any number: \"))\n",
    "sum1 = 0\n",
    "for i in range(1, n):\n",
    "    if(n % i == 0):\n",
    "        sum1 = sum1 + i\n",
    "if (sum1 == n):\n",
    "    print(\"The number is a Perfect number!\")\n",
    "else:\n",
    "    print(\"The number is not a Perfect number!\")"
   ]
  },
  {
   "cell_type": "markdown",
   "id": "d93c3520",
   "metadata": {},
   "source": [
    "# B5.How do you perform pattern matching in Python? Explain"
   ]
  },
  {
   "cell_type": "markdown",
   "id": "fd424247",
   "metadata": {},
   "source": [
    "### Pattern matching in Python closely matches the functionality found in many other languages.\n",
    "\n",
    "### Specify the name for the token that will be created by the pattern match.\n",
    "\n",
    "### Choose whether to look for the pattern in an existing token value or the page text.\n",
    "\n",
    "### To make the pattern match case sensitive, select Match case.\n",
    "\n"
   ]
  },
  {
   "cell_type": "markdown",
   "id": "3f39f832",
   "metadata": {},
   "source": [
    "# B6.What is lambda function in python?What we call a function which is incomplete version of a function?"
   ]
  },
  {
   "cell_type": "markdown",
   "id": "e7bc0eab",
   "metadata": {},
   "source": [
    "### In Python, we use the lambda keyword to declare an anonymous function, which is why we refer to them as \"lambda functions\".\n",
    "\n",
    "### An anonymous function refers to a function declared with no name.\n",
    "\n",
    "### A lambda function can take any number of arguments, but they contain only a single expression."
   ]
  },
  {
   "cell_type": "markdown",
   "id": "032051d5",
   "metadata": {},
   "source": [
    "# B7.How Many Basic Types Of Functions Are Available In Python?"
   ]
  },
  {
   "cell_type": "markdown",
   "id": "ffe40542",
   "metadata": {},
   "source": [
    "### There are two basic types of functions: built-in functions and user defined functions.\n",
    "\n",
    "### The built-in functions are part of the Python language; for instance dir() , len() , or abs() .\n",
    "\n",
    "###  The user defined functions are functions created with the def keyword."
   ]
  },
  {
   "cell_type": "markdown",
   "id": "3c219a46",
   "metadata": {},
   "source": [
    "# Assignment Level Intermediate:"
   ]
  },
  {
   "cell_type": "markdown",
   "id": "01ed89c0",
   "metadata": {},
   "source": [
    "# I1.Write a Python program to access a function inside a function."
   ]
  },
  {
   "cell_type": "code",
   "execution_count": 32,
   "id": "13c4e00e",
   "metadata": {},
   "outputs": [
    {
     "name": "stdout",
     "output_type": "stream",
     "text": [
      "3.8\n"
     ]
    }
   ],
   "source": [
    "def calc():  \n",
    "    def add(x,y):\n",
    "        print(x+y)\n",
    "    add(2.5,1.3)\n",
    "    \n",
    "calc()"
   ]
  },
  {
   "cell_type": "markdown",
   "id": "c52b7997",
   "metadata": {},
   "source": [
    "# l2.Write a Python program to detect the number of local variables declared in a function."
   ]
  },
  {
   "cell_type": "code",
   "execution_count": 30,
   "id": "638e7c93",
   "metadata": {},
   "outputs": [
    {
     "name": "stdout",
     "output_type": "stream",
     "text": [
      "1\n"
     ]
    }
   ],
   "source": [
    "def abc():\n",
    "    x = 1\n",
    "    y = 2\n",
    "    z = 3\n",
    "    str1= \"sarang\"\n",
    "print(myfun.__code__.co_nlocals)"
   ]
  },
  {
   "cell_type": "markdown",
   "id": "ebe6ab43",
   "metadata": {},
   "source": [
    "# l3. What is map function in Python?\n",
    "# map() function returns a map object(which is an iterator) of the results after applying the given function to each item of a given iterable (list, tuple etc.)"
   ]
  },
  {
   "cell_type": "code",
   "execution_count": 23,
   "id": "b9ccf721",
   "metadata": {},
   "outputs": [
    {
     "name": "stdout",
     "output_type": "stream",
     "text": [
      "[42, 62, 82]\n"
     ]
    }
   ],
   "source": [
    "numbers = (21, 31, 41)\n",
    "result = map(lambda x: x + x, numbers)\n",
    "print(list(result))"
   ]
  },
  {
   "cell_type": "markdown",
   "id": "6c1019bb",
   "metadata": {},
   "source": [
    "# I4.Does Python Have A Main() Method?"
   ]
  },
  {
   "cell_type": "markdown",
   "id": "4f9fd938",
   "metadata": {},
   "source": [
    "### There is no main() function in Python, when the command to run a Python program is given to the interpreter, the code that is at level 0 indentation is to be executed.\n",
    "\n",
    "### That’s why there is a special technique to define main method in python program, so that it gets executed only when the program is run directly and not executed when imported as a module."
   ]
  },
  {
   "cell_type": "markdown",
   "id": "8bf625a2",
   "metadata": {},
   "source": [
    "# I5.What Does The Args Do In Python?What Does The *Kwargs Do In Python?"
   ]
  },
  {
   "cell_type": "code",
   "execution_count": 24,
   "id": "82a36d19",
   "metadata": {},
   "outputs": [
    {
     "name": "stdout",
     "output_type": "stream",
     "text": [
      "firstname sarang\n",
      "lastname trivedi\n"
     ]
    }
   ],
   "source": [
    "def kw(**data):\n",
    "    for key,value in data.items():\n",
    "            print(key,value)\n",
    "kw(firstname='sarang',lastname='trivedi')"
   ]
  },
  {
   "cell_type": "markdown",
   "id": "ac41871f",
   "metadata": {},
   "source": [
    "# I6.What Does The Name Do In Python?What Is The Purpose Of “End” In Python?"
   ]
  },
  {
   "cell_type": "markdown",
   "id": "6646a888",
   "metadata": {},
   "source": [
    "### Since there is no main() function in Python, when the command to run a python program is given to the interpreter, the code that is at level 0 indentation is to be executed.\n",
    "\n",
    "### However, before doing that, it will define a few special variables. __name__ is one such special variable.\n",
    "\n",
    "### The end parameter is used to append any string at the end of the output of the print statement in python.\n",
    "\n",
    "### By default, the print method ends with a newline."
   ]
  },
  {
   "cell_type": "markdown",
   "id": "6dcb5b4f",
   "metadata": {},
   "source": [
    "# I7.What Does The Len() Function Do In Python? What Does The Ord() Function Do In Python?"
   ]
  },
  {
   "cell_type": "markdown",
   "id": "d19e43a7",
   "metadata": {},
   "source": [
    "### len() is a built-in function in python.\n",
    "\n",
    "### You can use the len() to get the length of the given string, array, list, tuple, dictionary, etc. \n",
    "\n",
    "### You can use len function to optimize the performance of the program.\n",
    "\n",
    "### The number of elements stored in the object is never calculated, so len helps provide the number of elements.\n",
    "\n",
    "### The ord() method in Python converts a character into its Unicode code value.\n",
    "\n",
    "### This method accepts a single character.\n",
    "\n",
    "### You will receive the numerical Unicode value of the character as a response."
   ]
  },
  {
   "cell_type": "markdown",
   "id": "d567bd4a",
   "metadata": {},
   "source": [
    "# Assignment Level Advance:"
   ]
  },
  {
   "cell_type": "markdown",
   "id": "31ecf510",
   "metadata": {},
   "source": [
    "# A1.Name few methods that are used to implement Functionally Oriented Programming in Python?"
   ]
  },
  {
   "cell_type": "markdown",
   "id": "a26a94ae",
   "metadata": {},
   "source": [
    "### There are predefined methods bounded by double underscores that are reserved for creating your object, overloading operators and common functions.\n",
    "\n",
    "### '__init__' is used to initialize objects, '__str__' to format object for printing, '__eq__' for equality operator, '__len__' for len function, and many many others.\n",
    "\n",
    "### Python offers two built-in functions, map() and filter() , that fit the functional programming paradigm.\n",
    "\n",
    "### A third, reduce() , is no longer part of the core language but is still available from a module called functools ."
   ]
  },
  {
   "cell_type": "markdown",
   "id": "1c8f5dfb",
   "metadata": {},
   "source": [
    "# A2.Write a program in Python to reverse a string without using inbuilt function reverse string?\n"
   ]
  },
  {
   "cell_type": "code",
   "execution_count": 33,
   "id": "2a1da902",
   "metadata": {},
   "outputs": [
    {
     "name": "stdout",
     "output_type": "stream",
     "text": [
      "ilusav\n"
     ]
    }
   ],
   "source": [
    "st='vasuli'\n",
    "print(st[::-1])"
   ]
  },
  {
   "cell_type": "markdown",
   "id": "09ab300e",
   "metadata": {},
   "source": [
    "# Topic: importing module,math module,random module,packages"
   ]
  },
  {
   "cell_type": "markdown",
   "id": "089b26b1",
   "metadata": {},
   "source": [
    "# Assignment Level Basic:"
   ]
  },
  {
   "cell_type": "markdown",
   "id": "d38a7968",
   "metadata": {},
   "source": [
    "#  B1.How can you pick a random item from a list or tuple?"
   ]
  },
  {
   "cell_type": "code",
   "execution_count": 34,
   "id": "303f6baa",
   "metadata": {},
   "outputs": [
    {
     "name": "stdout",
     "output_type": "stream",
     "text": [
      "vasuli\n"
     ]
    }
   ],
   "source": [
    "import random\n",
    "t=('vasuli','heet','sarang','keyur')\n",
    "print(random.choice(t))"
   ]
  },
  {
   "cell_type": "markdown",
   "id": "cd81c7f7",
   "metadata": {},
   "source": [
    "# B2.How can you pick a random item from a range?"
   ]
  },
  {
   "cell_type": "code",
   "execution_count": 37,
   "id": "38cf9580",
   "metadata": {},
   "outputs": [
    {
     "name": "stdout",
     "output_type": "stream",
     "text": [
      "5\n"
     ]
    }
   ],
   "source": [
    "import random\n",
    "print(random.randrange(1,10))"
   ]
  },
  {
   "cell_type": "markdown",
   "id": "f66792af",
   "metadata": {},
   "source": [
    "# B3.How can you get a random number in python?"
   ]
  },
  {
   "cell_type": "code",
   "execution_count": 38,
   "id": "8cd2d562",
   "metadata": {},
   "outputs": [
    {
     "name": "stdout",
     "output_type": "stream",
     "text": [
      "96\n"
     ]
    }
   ],
   "source": [
    "import random\n",
    "print(random.randrange(1,100))"
   ]
  },
  {
   "cell_type": "markdown",
   "id": "e9f63c26",
   "metadata": {},
   "source": [
    "# B4.How will you set the starting value in generating random numbers?"
   ]
  },
  {
   "cell_type": "code",
   "execution_count": 39,
   "id": "f9296727",
   "metadata": {},
   "outputs": [
    {
     "name": "stdout",
     "output_type": "stream",
     "text": [
      "a\n"
     ]
    }
   ],
   "source": [
    "string = \"vasuli\"\n",
    "print(random.choice(string))"
   ]
  },
  {
   "cell_type": "markdown",
   "id": "a5728ca3",
   "metadata": {},
   "source": [
    "# B5.How will you randomizes the items of a list in place?"
   ]
  },
  {
   "cell_type": "code",
   "execution_count": 42,
   "id": "22d7e8f9",
   "metadata": {},
   "outputs": [
    {
     "name": "stdout",
     "output_type": "stream",
     "text": [
      "[10, 4, 2, 5, 9, 3, 7, 8, 1, 6]\n"
     ]
    }
   ],
   "source": [
    "list = [1, 2, 3, 4, 5, 6, 7, 8, 9, 10]\n",
    "random.shuffle(list)\n",
    "print(list)"
   ]
  },
  {
   "cell_type": "markdown",
   "id": "a590c8c6",
   "metadata": {},
   "source": [
    "# Assignment Level Intermediate"
   ]
  },
  {
   "cell_type": "markdown",
   "id": "dd0fe98d",
   "metadata": {},
   "source": [
    "# I1.Write a Python program to read a random line from a file."
   ]
  },
  {
   "cell_type": "code",
   "execution_count": 4,
   "id": "9ef2cd12",
   "metadata": {},
   "outputs": [
    {
     "name": "stdout",
     "output_type": "stream",
     "text": [
      "This is sample text content to adding a text file using file handling in python.hi i am sarang.\n"
     ]
    }
   ],
   "source": [
    "import random\n",
    "def randomline(fname):\n",
    "    lines=open(fname).read().splitlines()\n",
    "    return random.choice(lines)\n",
    "print(randomline('new_file.txt'))"
   ]
  },
  {
   "cell_type": "markdown",
   "id": "1b18937d",
   "metadata": {},
   "source": [
    "# I2. Write a Python program to convert degree to radian"
   ]
  },
  {
   "cell_type": "code",
   "execution_count": 5,
   "id": "d2db4bdd",
   "metadata": {},
   "outputs": [
    {
     "name": "stdout",
     "output_type": "stream",
     "text": [
      "Input degrees: 10\n",
      "0.1746031746031746\n"
     ]
    }
   ],
   "source": [
    "pi=22/7\n",
    "degree = float(input(\"Input degrees: \"))\n",
    "radian = degree*(pi/180)\n",
    "print(radian)"
   ]
  },
  {
   "cell_type": "markdown",
   "id": "5e314d9b",
   "metadata": {},
   "source": [
    "# I3. Write a Python program to calculate the area of a trapezoid"
   ]
  },
  {
   "cell_type": "code",
   "execution_count": 6,
   "id": "7d35c9cc",
   "metadata": {},
   "outputs": [
    {
     "name": "stdout",
     "output_type": "stream",
     "text": [
      "enter baase 120\n",
      "enter base 230\n",
      "enter the hight50\n",
      "1250.0\n"
     ]
    }
   ],
   "source": [
    "b1=float(input('enter baase 1'))\n",
    "b2=float(input('enter base 2'))\n",
    "h=float(input('enter the hight'))\n",
    "area = ((b1 + b2) / 2) * h\n",
    "print(area)"
   ]
  },
  {
   "cell_type": "markdown",
   "id": "dfd2e72d",
   "metadata": {},
   "source": [
    "# I4.Write a Python program to calculate the area of a parallelogram"
   ]
  },
  {
   "cell_type": "code",
   "execution_count": 8,
   "id": "f195fa5f",
   "metadata": {},
   "outputs": [
    {
     "name": "stdout",
     "output_type": "stream",
     "text": [
      "enter the base10\n",
      " enter height30\n",
      "the area of parallelogran is  300\n"
     ]
    }
   ],
   "source": [
    "b=int(input('enter the base'))\n",
    "h=int(input(' enter height'))\n",
    "a=b*h\n",
    "print('the area of parallelogran is ',a)"
   ]
  },
  {
   "cell_type": "markdown",
   "id": "7580638a",
   "metadata": {},
   "source": [
    "# I5.Write a Python program to calculate surface volume and area of a cylinder"
   ]
  },
  {
   "cell_type": "code",
   "execution_count": 9,
   "id": "4a888356",
   "metadata": {},
   "outputs": [
    {
     "name": "stdout",
     "output_type": "stream",
     "text": [
      "enter e of cyllender20\n",
      "enter h of cylender30\n",
      "s a is  75398.22368615503\n",
      "volume is 37699.11184307752\n"
     ]
    }
   ],
   "source": [
    "import math\n",
    "r=float(input('enter e of cyllender'))\n",
    "h=float(input('enter h of cylender'))\n",
    "s_a=2*math.pi*pow(r,2)*h   # Surface area = 2πr(r+h)\n",
    "volume=math.pi*pow(r,2)*h     # Volume of cylinder=πr²h\n",
    "print('s a is ',s_a)\n",
    "print('volume is',volume)"
   ]
  },
  {
   "cell_type": "markdown",
   "id": "52ac6c17",
   "metadata": {},
   "source": [
    "# I6.Write a Python program to returns sum of all divisors of a number"
   ]
  },
  {
   "cell_type": "code",
   "execution_count": 11,
   "id": "31aeed9f",
   "metadata": {},
   "outputs": [
    {
     "name": "stdout",
     "output_type": "stream",
     "text": [
      "1\n",
      "36\n"
     ]
    }
   ],
   "source": [
    "def sum_div(number):\n",
    "    divisor=[1]\n",
    "    for i in range(2,number):\n",
    "        if (number % i)==0:\n",
    "            divisor.append(i)\n",
    "    return sum(divisor)\n",
    "print(sum_div(2))\n",
    "print(sum_div(24))"
   ]
  },
  {
   "cell_type": "markdown",
   "id": "1621c921",
   "metadata": {},
   "source": [
    "# I7. Write a Python program to find the maximum and minimum numbers from the specified decimal numbers."
   ]
  },
  {
   "cell_type": "code",
   "execution_count": 13,
   "id": "92c7263a",
   "metadata": {},
   "outputs": [
    {
     "name": "stdout",
     "output_type": "stream",
     "text": [
      "Maximum:  7.05\n",
      "Minimum:  0.02\n"
     ]
    }
   ],
   "source": [
    "from decimal import *\n",
    "data = list(map(Decimal, '2.43 2.61 2.45 3.55 2.10 0.02 7.05'.split()))\n",
    "print(\"Maximum: \", max(data))\n",
    "print(\"Minimum: \", min(data))"
   ]
  },
  {
   "cell_type": "markdown",
   "id": "4c3bd8d7",
   "metadata": {},
   "source": [
    "# Assignment Level Advance:"
   ]
  },
  {
   "cell_type": "markdown",
   "id": "f2950384",
   "metadata": {},
   "source": [
    "# A1. Write a Python program to find the sum of the following decimal numbers and\n",
    "# display the numbers in sorted order\n",
    "# Decimal numbers : 2.45, 2.69, 2.45, 3.45, 2.00, 0.04, 7.25\n",
    "# Expected Output :\n",
    "# Sum: 20.33\n",
    "# Sorted order: [Decimal('0.04'), Decimal('2.00'), Decimal('2.45'), Decimal('2.45'\n",
    "# ), Decimal('2.69'), Decimal('3.45'), Decimal('7.25')]\n"
   ]
  },
  {
   "cell_type": "code",
   "execution_count": 14,
   "id": "8086fc35",
   "metadata": {},
   "outputs": [
    {
     "name": "stdout",
     "output_type": "stream",
     "text": [
      "20.33\n"
     ]
    },
    {
     "data": {
      "text/plain": [
       "[0.04, 2.0, 2.45, 2.45, 2.69, 3.45, 7.25]"
      ]
     },
     "execution_count": 14,
     "metadata": {},
     "output_type": "execute_result"
    }
   ],
   "source": [
    "l=[2.45,2.69,2.45,3.45,2.00,0.04,7.25]\n",
    "sum=0\n",
    "for i in l:\n",
    "    sum= sum + i\n",
    "print(sum)\n",
    "sorted(l)"
   ]
  },
  {
   "cell_type": "markdown",
   "id": "e9167cd8",
   "metadata": {},
   "source": [
    "# A2.Write a Python program to get the square root and exponential of a given decimal number"
   ]
  },
  {
   "cell_type": "code",
   "execution_count": 16,
   "id": "603f6d4c",
   "metadata": {},
   "outputs": [
    {
     "name": "stdout",
     "output_type": "stream",
     "text": [
      "Square root of  1.33  is : 1.153256259467079588935418324\n",
      "exponential of  1.33  is : 3.781043387568780745821977786\n"
     ]
    }
   ],
   "source": [
    "from decimal import *\n",
    "x = Decimal('1.33')\n",
    "print(\"Square root of \",x, \" is :\", x.sqrt())\n",
    "print(\"exponential of \",x, \" is :\", x.exp())"
   ]
  },
  {
   "cell_type": "markdown",
   "id": "cfc7abca",
   "metadata": {},
   "source": [
    "# A3.Write a Python program to add, subtract, multiply and divide two fractions.\n",
    "# Expected Output :\n",
    "# 2/3 + 3/7 = 23/21\n",
    "# 2/3 - 3/7 = 5/21\n",
    "# 2/3 * 3/7 = 2/7\n",
    "# 2/3 / 3/7 = 14/9"
   ]
  },
  {
   "cell_type": "code",
   "execution_count": 17,
   "id": "c87264f5",
   "metadata": {},
   "outputs": [
    {
     "name": "stdout",
     "output_type": "stream",
     "text": [
      "5/8 + 2/5 = 41/40\n",
      "5/8 - 2/5 = 9/40\n",
      "5/8 * 2/5 = 1/4\n",
      "5/8 / 2/5 = 25/16\n"
     ]
    }
   ],
   "source": [
    "import fractions\n",
    "\n",
    "f1 = fractions.Fraction(5, 8)\n",
    "f2 = fractions.Fraction(4, 10)\n",
    "\n",
    "print('{} + {} = {}'.format(f1, f2, f1 + f2))\n",
    "print('{} - {} = {}'.format(f1, f2, f1 - f2))\n",
    "print('{} * {} = {}'.format(f1, f2, f1 * f2))\n",
    "print('{} / {} = {}'.format(f1, f2, f1 / f2))"
   ]
  },
  {
   "cell_type": "code",
   "execution_count": null,
   "id": "748fe313",
   "metadata": {},
   "outputs": [],
   "source": []
  }
 ],
 "metadata": {
  "kernelspec": {
   "display_name": "Python 3",
   "language": "python",
   "name": "python3"
  },
  "language_info": {
   "codemirror_mode": {
    "name": "ipython",
    "version": 3
   },
   "file_extension": ".py",
   "mimetype": "text/x-python",
   "name": "python",
   "nbconvert_exporter": "python",
   "pygments_lexer": "ipython3",
   "version": "3.8.8"
  }
 },
 "nbformat": 4,
 "nbformat_minor": 5
}
